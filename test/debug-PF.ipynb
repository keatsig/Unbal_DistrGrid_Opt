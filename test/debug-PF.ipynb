{
 "cells": [
  {
   "cell_type": "code",
   "execution_count": 1,
   "metadata": {},
   "outputs": [
    {
     "name": "stdout",
     "output_type": "stream",
     "text": [
      "par_det = 8×1 Named Adjoint{Int64,Array{Int64,2}}\n",
      "Par ╲ Val │ :Value\n",
      "──────────┼───────\n",
      "nb        │    134\n",
      "ngy       │      1\n",
      "nly       │     82\n",
      "nld       │      3\n",
      "nb_nph    │    286\n",
      "ngy_nph   │      3\n",
      "nly_nph   │    144\n",
      "nld_nph   │      9\n",
      "-------------------\n"
     ]
    },
    {
     "data": {
      "text/plain": [
       "134×6 Array{Float64,2}:\n",
       " 0.0      0.0     0.0        0.0    1.0332  119.592\n",
       " 1.0162  -1.4398  1.0386  -120.728  1.0252  119.203\n",
       " 1.0083  -1.8789  1.0365  -120.962  1.0195  118.92 \n",
       " 1.0067  -1.5019  0.0        0.0    0.0       0.0  \n",
       " 1.0084  -1.4685  0.0        0.0    0.0       0.0  \n",
       " 0.0      0.0     0.0        0.0    1.0182  118.894\n",
       " 0.9995  -2.3286  1.0325  -121.201  1.0117  118.857\n",
       " 0.999   -2.3838  1.0326  -121.199  1.0105  118.836\n",
       " 0.9986  -2.4394  1.033   -121.183  1.0094  118.82 \n",
       " 0.9979  -2.4981  1.0335  -121.174  1.0085  118.821\n",
       " 0.9977  -2.5252  0.0        0.0    1.0017  118.811\n",
       " 0.9979  -2.4981  0.0        0.0    1.0022  118.821\n",
       " 0.9973  -2.5437  0.0        0.0    1.0016  118.82 \n",
       " ⋮                                            ⋮    \n",
       " 1.0353  -3.8265  1.0303  -122.228  1.0333  117.585\n",
       " 1.0355  -3.8296  1.0302  -122.215  1.0328  117.567\n",
       " 0.0      0.0     0.0        0.0    1.0318  117.597\n",
       " 0.0      0.0     0.0        0.0    1.0301  117.566\n",
       " 0.0      0.0     0.0        0.0    1.0284  117.532\n",
       " 0.0      0.0     1.0298  -122.291  0.0       0.0  \n",
       " 0.0      0.0     1.0283  -122.318  0.0       0.0  \n",
       " 1.0275  -4.0613  0.0        0.0    0.0       0.0  \n",
       " 1.0248  -4.1143  0.0        0.0    0.0       0.0  \n",
       " 1.0249  -4.1134  0.0        0.0    0.0       0.0  \n",
       " 1.0228  -4.1532  0.0        0.0    0.0       0.0  \n",
       " 1.0224  -4.1612  0.0        0.0    0.0       0.0  "
      ]
     },
     "execution_count": 1,
     "metadata": {},
     "output_type": "execute_result"
    }
   ],
   "source": [
    "using JuMP, Ipopt, SparseArrays, LinearAlgebra, NamedArrays, DelimitedFiles, DataFrames, CSV, Statistics\n",
    "\n",
    "# Include necessary functions\n",
    "include(\"Functions/Ybus.jl\");         # Function to calculate Ybus matrix (G,B)\n",
    "include(\"Functions/Conventional.jl\");   # Function to define constraints (polar)\n",
    "include(\"Functions/Cost.jl\");          # Function to define cost (polar)\n",
    "include(\"Functions/Misc.jl\");                # Function to define start point,map input,print output\n",
    "include(\"Functions/Parse_gld_1day.jl\");      # Function to parse GridLabD system data\n",
    "include(\"Functions/Fixed_point.jl\");     # Function to implement fixed-point method (polar)\n",
    "include(\"Functions/BFS.jl\");             # Function to implement BFS method (polar)\n",
    "include(\"Functions/Dist3Flow.jl\");       # Function to implement Dist3Flow method\n",
    "\n",
    "# Load test case\n",
    "global case_name = \"case123_glm\" \n",
    "# global case_name = \"GC-12.47-1\" \n",
    "# global case_name = \"R1-12.47-3/base\"  \n",
    "# global case_name = \"R2-12.47-2\"\n",
    "data_file = open(string(\"data/\",case_name,\"/data.xml\")); data = readlines(data_file)\n",
    "z_file = open(string(\"data/\",case_name,\"/z_dump.xml\")); z_dump = readlines(z_file)\n",
    "global PV_en = 0;   # 0-exclude, 1-include ZIP loads/PV inverters\n",
    "if PV_en == 1\n",
    "    house_sch = CSV.read(string(\"House_\",case_name,\"_profile.csv\"),header=false,type=Float64,DataFrame)\n",
    "    global house_sch = convert(Matrix,house_sch);\n",
    "    PV_sch = CSV.read(string(\"PV_\",case_name,\"_profile.csv\"),header=false,type=Float64,DataFrame)\n",
    "    global PV_sch = convert(Matrix,PV_sch);\n",
    "end\n",
    "# global VUF_init = readdlm(string(\"VUF_\",case_name,\"_init.csv\"), ',')/100\n",
    "# global QgY_init = readdlm(string(\"QgY0_\",case_name,\"_base.csv\"), ',');\n",
    "# global QgY_init = readdlm(\"QgY0_R1-12.47-1_freq60_delay60.csv\", ',');\n",
    "\n",
    "## Other inputs\n",
    "global count_sch = 1;  # Time instant to run OPF\n",
    "# global crit_node = [\"n632\"]\n",
    "# global crit_node = [\"R1-12-47-1_node_359\"]\n",
    "# global crit_node = [\"R1-12-47-3_node_1\"]\n",
    "global crit_node = \"all\"\n",
    "global PV_rat = 0.035;\n",
    "global Q_pen = 0*1e-5; global ΔV_pen = 0*1e-2;\n",
    "global obj_op = 1       \n",
    "        \n",
    "## Parse system data\n",
    "parse_gld(crit_node); global M = 1e3\n",
    "\n",
    "## Create Y_bus and connection matrices\n",
    "Ybus(); conn_bgl();\n",
    "\n",
    "# Initialize values\n",
    "start_point(4); global Vm0 = s0[1:nb_nph]; global θ0 = s0[nb_nph+1:2*nb_nph];\n",
    "global Vd0 = Vm0.*cos.(θ0); global Vq0 = Vm0.*sin.(θ0); QgY0 = zeros(ngy_nph-3);\n",
    "stat = \"LOCALLY_SOLVED\";\n",
    "round.(bus[:,9:14],RoundNearest, digits=4)"
   ]
  },
  {
   "cell_type": "code",
   "execution_count": 156,
   "metadata": {},
   "outputs": [],
   "source": [
    "## Define active and reactive power of inverters\n",
    "    Ygen = zeros(nb_nph)*(0+im*0)\n",
    "    if PV_en == 1\n",
    "        Pg_idx = [2 6 10];  Qg_idx = [4 8 12];\n",
    "        global PgY = zeros(ngy_inv); SgY = yinv_ratedS/baseMVA; num_count = 1;\n",
    "        for i=1:ngy_inv\n",
    "            j = Int(ygen1[i,1]); count1 = 1\n",
    "            for k = 3:2:7\n",
    "                if bus[j,k] != 0\n",
    "                    PgY[num_count] = ygen1[i,Pg_idx[count1]]/baseMVA\n",
    "                    if QgY0[num_count] > sqrt(SgY[num_count]^2 - PgY[num_count]^2)\n",
    "                        QgY0[num_count] = sqrt(SgY[num_count]^2 - PgY[num_count]^2)\n",
    "                    elseif QgY0[num_count] < -sqrt(SgY[num_count]^2 - PgY[num_count]^2)\n",
    "                        QgY0[num_count] = -sqrt(SgY[num_count]^2 - PgY[num_count]^2)\n",
    "                    end\n",
    "                    num_count = num_count + 1;\n",
    "                end\n",
    "                count1 = count1 + 1;\n",
    "            end\n",
    "        end\n",
    "        Ygen = Cbg*(PgY + im*QgY0)\n",
    "    end\n",
    "\n",
    "    ## Generate load matrix\n",
    "    ZIP_load()\n",
    "\n",
    "Vll0 = zeros(nb_nph); pf_err = 1; pf_iter = 0; Ibr = zeros(nbr_nph)*(0+im*0);\n",
    "    YloadP = zeros(nly_nph); YloadQ = zeros(nly_nph); Vm1 = zeros(nb_nph);\n",
    "    DloadP = zeros(nld_nph); DloadQ = zeros(nld_nph); θ1 = zeros(nb_nph);\n",
    "    I_ll = zeros(nld_nph)*(0+im*0); P_d2y = zeros(nldy_nph); Q_d2y = zeros(nldy_nph);"
   ]
  },
  {
   "cell_type": "code",
   "execution_count": 161,
   "metadata": {},
   "outputs": [
    {
     "data": {
      "text/plain": [
       "286-element Array{Complex{Float64},1}:\n",
       "                   0.0 + 0.0im                \n",
       "                   0.0 - 0.0im                \n",
       "                  -0.0 + 0.0im                \n",
       "                   0.0 + 0.0im                \n",
       "                   0.0 - 0.0im                \n",
       "                  -0.0 + 0.0im                \n",
       "                   0.0 + 0.0im                \n",
       "                   0.0 - 0.0im                \n",
       "                   0.0 - 0.0im                \n",
       "                   0.0 + 0.0im                \n",
       "                   0.0 - 0.0im                \n",
       "                  -0.0 + 0.0im                \n",
       "                   0.0 + 0.0im                \n",
       "                       ⋮                      \n",
       "                  -0.0 + 0.0im                \n",
       " -0.012581878286256778 + 1.0595209233303398im \n",
       " -0.006765449538361715 + 0.5443738009837381im \n",
       " -0.012774185527721284 + 1.0910697376937961im \n",
       " -0.011951931201792835 + 1.093583531918059im  \n",
       "   -0.9041240897923306 - 0.5362509829748676im \n",
       "   -0.9060229697587671 - 0.5366489965881822im \n",
       "    0.9518524083116986 - 0.578766371189655im  \n",
       "    0.4772107245007346 - 0.2909544371360355im \n",
       "        0.480002457984 - 0.24000122899200002im\n",
       "    0.8773846193809409 - 0.535933111253901im  \n",
       "    0.4783197380224499 - 0.2922978953894633im "
      ]
     },
     "execution_count": 161,
     "metadata": {},
     "output_type": "execute_result"
    }
   ],
   "source": [
    "## Initialize voltage\n",
    "        for i=1:nb_nph\n",
    "            k = Int(Tl[i])\n",
    "            Vll0[i] =  sqrt(Vm0[i]^2 + Vm0[k]^2 - 2*Vm0[i]*Vm0[k]*cos(θ0[i]-θ0[k]) )\n",
    "        end\n",
    "\n",
    "        ## Calculate wye-connected loads\n",
    "        for i=1:nl_y\n",
    "            dum1 = (Sy[i,3] + im*Sy[i,4])/(1*exp(im*Sy[i,8]))*(Vm0[Int(Sy[i,7])]*exp(im*θ0[Int(Sy[i,7])]))\n",
    "            YloadP[i] = Sy[i,1]+real(dum1)+Sy[i,5]*Vm0[Int(Sy[i,7])]^2\n",
    "            YloadQ[i] = Sy[i,2]+imag(dum1)+Sy[i,6]*Vm0[Int(Sy[i,7])]^2\n",
    "\n",
    "        end\n",
    "        for i=nl_y+1:nly_nph\n",
    "            YloadP[i] = Sy[i,1]+Sy[i,3]*Vm0[Int(Sy[i,7])]+Sy[i,5]*Vm0[Int(Sy[i,7])]^2\n",
    "            YloadQ[i] = Sy[i,2]+Sy[i,4]*Vm0[Int(Sy[i,7])]+Sy[i,6]*Vm0[Int(Sy[i,7])]^2\n",
    "        end\n",
    "        Ycap = Vm0.*exp.(im*θ0).*conj.(im*Sh_cap.*Vm0.*exp.(im*θ0)).*Vm0.^2\n",
    "        Yload = CblY*(YloadP + im*YloadQ) + Ycap;\n",
    "\n",
    "        ## Calculate delta-connected loads\n",
    "        for i=1:nld_nph\n",
    "            j = Int(Tl[Int(Sd[i,7])]);\n",
    "            dum1 = Vm0[Int(Sd[i,7])]*exp(im*θ0[Int(Sd[i,7])])-Vm0[j]*exp(im*θ0[j])\n",
    "            dum2 = (Sd[i,3] + im*Sd[i,4])/(sqrt(3)*exp(im*Sd[i,8]))*dum1\n",
    "            DloadP[i] = Sd[i,1]+real(dum2)+Sd[i,5]*Vll0[Int(Sd[i,7])]^2/3\n",
    "            DloadQ[i] = Sd[i,2]+imag(dum2)+Sd[i,6]*Vll0[Int(Sd[i,7])]^2/3\n",
    "        end\n",
    "        num_count= 1;\n",
    "        for i=1:nld\n",
    "            j = Int(dload[i,1])\n",
    "            for k=Int.(sum(bus_count[1:j-1])+1:sum(bus_count[1:j]))\n",
    "                kk = Int(Tl[k])\n",
    "                if k != kk\n",
    "                    I_ll[num_count]= conj((DloadP[num_count]+im*DloadQ[num_count])/(Vm0[k]*exp(im*θ0[k])-Vm0[kk]*exp(im*θ0[kk])));\n",
    "                    num_count= num_count+ 1\n",
    "                end\n",
    "            end\n",
    "        end\n",
    "        Ip = Tl2p*I_ll;\n",
    "        num_count= 1\n",
    "        for i=1:nld\n",
    "            j = Int(dload[i,1])\n",
    "            for k=Int.(sum(bus_count[1:j-1])+1:sum(bus_count[1:j]))\n",
    "                dum1 = Vm0[k]*exp(im*θ0[k])*conj(Ip[num_count])\n",
    "                P_d2y[num_count]= real(dum1); Q_d2y[num_count]= imag(dum1)\n",
    "                num_count= num_count+ 1\n",
    "            end\n",
    "        end\n",
    "        Dload = CblD*(P_d2y + im*Q_d2y); Ibus = zeros(nb_nph)*(0+im*0);\n",
    "        V0 = Vm0.*exp.(im*θ0); S_inj = Dload+Yload-Ygen; count3 = 1;\n",
    "        I_inj = conj(S_inj./V0)"
   ]
  },
  {
   "cell_type": "code",
   "execution_count": 160,
   "metadata": {},
   "outputs": [
    {
     "data": {
      "text/plain": [
       "11-element Array{Float64,1}:\n",
       " 0.0\n",
       " 0.0\n",
       " 0.0\n",
       " 0.0\n",
       " 0.0\n",
       " 0.0\n",
       " 0.0\n",
       " 0.0\n",
       " 0.0\n",
       " 0.0\n",
       " 0.0"
      ]
     },
     "execution_count": 160,
     "metadata": {},
     "output_type": "execute_result"
    }
   ],
   "source": [
    "[bus_ID[Int.(tf_branch[120:123,1:2])] tf_branch[120:123,:]]\n",
    "abs.(I_inj[20:30])"
   ]
  },
  {
   "cell_type": "code",
   "execution_count": 162,
   "metadata": {},
   "outputs": [
    {
     "data": {
      "text/plain": [
       "11-element Array{Float64,1}:\n",
       " 3.2527029456322665\n",
       " 0.0               \n",
       " 2.1597788337745083\n",
       " 1.073312969700693 \n",
       " 1.0408307885803267\n",
       " 1.1202704121250981\n",
       " 1.0863671355807158\n",
       " 1.073312969700693 \n",
       " 0.0               \n",
       " 1.056921571585906 \n",
       " 1.059577973275181 "
      ]
     },
     "execution_count": 162,
     "metadata": {},
     "output_type": "execute_result"
    }
   ],
   "source": [
    "## Backward sweep\n",
    "\n",
    "        for i=1:nbr\n",
    "            j = Int(line_prove[nbr-i+1,2]); jj = Int(sum(bus_count[1:j-1])+1):Int(sum(bus_count[1:j]))\n",
    "            k = Int(line_prove[nbr-i+1,1]); kk = Int(sum(bus_count[1:k-1])+1):Int(sum(bus_count[1:k]))\n",
    "            nz = findmin([length(jj) length(kk)])[1]\n",
    "            jjjj = zeros(nz); kkkk = zeros(nz); num_count=1\n",
    "            for jjj=jj\n",
    "                for kkk=kk\n",
    "                    if bus_ϕ[jjj] == bus_ϕ[kkk]\n",
    "                        jjjj[num_count] = jjj; kkkk[num_count] = kkk;\n",
    "                        num_count=num_count+1\n",
    "                    end\n",
    "                end\n",
    "            end\n",
    "            jj = Int.(jjjj); kk = Int.(kkkk)\n",
    "            if tf_branch[Int(line_prove[nbr-i+1,4]),3] == 8\n",
    "                if bus_ph[k] == \"AN\"\n",
    "                    vr_tap = 1 + 0.00625*tf_branch[vr_idx[count3],6]\n",
    "                elseif bus_ph[k] == \"BN\"\n",
    "                    vr_tap = 1 + 0.00625*tf_branch[vr_idx[count3],7]\n",
    "                elseif bus_ph[k] == \"CN\"\n",
    "                    vr_tap = 1 + 0.00625*tf_branch[vr_idx[count3],8]\n",
    "                elseif bus_ph[k] == \"ABN\" || bus_ph[k] == \"BAN\"\n",
    "                    vr_tap = Diagonal(1 .+ 0.00625*tf_branch[vr_idx[count3],6:7])\n",
    "                elseif bus_ph[k] == \"BCN\" || bus_ph[k] == \"CBN\"\n",
    "                    vr_tap = Diagonal(1 .+ 0.00625*tf_branch[vr_idx[count3],7:8])\n",
    "                elseif bus_ph[k] == \"ACN\" || bus_ph[k] == \"CAN\"\n",
    "                    vr_tap = Diagonal(1 .+ 0.00625*tf_branch[vr_idx[count3],6:2:8])\n",
    "                else\n",
    "                    vr_tap = Diagonal(1 .+ 0.00625*tf_branch[vr_idx[count3],6:8])\n",
    "                end\n",
    "                Ibus[kk] = vr_tap*(Ibus[kk] + I_inj[kk]);\n",
    "                count3 = count3+1;\n",
    "            else\n",
    "                Ibus[kk] = Ibus[kk] + I_inj[kk];\n",
    "            end\n",
    "            Ibus[jj] = Ibus[kk] + Ibus[jj];\n",
    "end\n",
    "abs.(Ibus[20:30])"
   ]
  },
  {
   "cell_type": "code",
   "execution_count": 163,
   "metadata": {},
   "outputs": [
    {
     "data": {
      "text/plain": [
       "139.71020157643923 - 15.682202867993796im"
      ]
     },
     "execution_count": 163,
     "metadata": {},
     "output_type": "execute_result"
    }
   ],
   "source": [
    "sum(Ibus)"
   ]
  },
  {
   "cell_type": "code",
   "execution_count": 148,
   "metadata": {},
   "outputs": [
    {
     "data": {
      "text/plain": [
       "3-element Array{Complex{Float64},1}:\n",
       "   0.921911289685281 - 0.5231873022436246im\n",
       "                 0.0 + 0.0im               \n",
       " -0.0384271189732162 + 1.0728477987870568im"
      ]
     },
     "execution_count": 148,
     "metadata": {},
     "output_type": "execute_result"
    }
   ],
   "source": [
    "i=25\n",
    "j = Int(line_prove[nbr-i+1,2]); jj = Int(sum(bus_count[1:j-1])+1):Int(sum(bus_count[1:j]))\n",
    "            k = Int(line_prove[nbr-i+1,1]); kk = Int(sum(bus_count[1:k-1])+1):Int(sum(bus_count[1:k]))\n",
    "            nz = findmin([length(jj) length(kk)])[1]\n",
    "            jjjj = zeros(nz); kkkk = zeros(nz); num_count=1\n",
    "            for jjj=jj\n",
    "                for kkk=kk\n",
    "                    if bus_ϕ[jjj] == bus_ϕ[kkk]\n",
    "                        jjjj[num_count] = jjj; kkkk[num_count] = kkk;\n",
    "                        num_count=num_count+1\n",
    "                    end\n",
    "                end\n",
    "            end\n",
    "            jj = Int.(jjjj); kk = Int.(kkkk)\n",
    "\n",
    "Ibus[kk]"
   ]
  },
  {
   "cell_type": "code",
   "execution_count": 144,
   "metadata": {},
   "outputs": [
    {
     "data": {
      "text/plain": [
       "3-element Array{Complex{Float64},1}:\n",
       " 0.959999151696 - 0.48000245798400004im\n",
       "           -0.0 + 0.0im                \n",
       "            0.0 + 0.0im                "
      ]
     },
     "execution_count": 144,
     "metadata": {},
     "output_type": "execute_result"
    }
   ],
   "source": [
    "I_inj[kk]"
   ]
  },
  {
   "cell_type": "code",
   "execution_count": 151,
   "metadata": {},
   "outputs": [
    {
     "data": {
      "text/plain": [
       "286-element Array{Float64,1}:\n",
       " 1.0308940449047042\n",
       " 1.0102031068980184\n",
       " 1.0378706590132938\n",
       " 1.0215328900635976\n",
       " 1.0006928805680577\n",
       " 1.0355359674048685\n",
       " 1.0147795567461513\n",
       " 1.0001294053069554\n",
       " 1.0021341001018431\n",
       " 1.013129762047636 \n",
       " 0.990132763773248 \n",
       " 1.0309256128553883\n",
       " 1.0053728165472773\n",
       " ⋮                 \n",
       " 1.021600489414898 \n",
       " 0.9872197368740786\n",
       " 0.9857470622197908\n",
       " 0.9836576315736499\n",
       " 0.981405171231452 \n",
       " 1.0210429767379892\n",
       " 1.01926231666391  \n",
       " 0.963477290676147 \n",
       " 0.960177364877557 \n",
       " 0.9603471328665241\n",
       " 0.9578928525166114\n",
       " 0.9573570058421867"
      ]
     },
     "execution_count": 151,
     "metadata": {},
     "output_type": "execute_result"
    }
   ],
   "source": [
    "## Forward sweep\n",
    "        Vm1[idx_ref] = Vm0[idx_ref]; θ1[idx_ref] = θ0[idx_ref]; count1 = 1;  count2=1\n",
    "        for i=1:nbr\n",
    "            j = Int(line_prove[i,2]); jj = Int(sum(bus_count[1:j-1])+1):Int(sum(bus_count[1:j]))\n",
    "            k = Int(line_prove[i,1]); kk = Int(sum(bus_count[1:k-1])+1):Int(sum(bus_count[1:k]))\n",
    "            nz = findmin([length(jj) length(kk)])[1]\n",
    "            jjjj = zeros(nz); kkkk = zeros(nz); num_count=1\n",
    "            for jjj=jj\n",
    "                for kkk=kk\n",
    "                    if bus_ϕ[jjj] == bus_ϕ[kkk]\n",
    "                        jjjj[num_count] = jjj; kkkk[num_count] = kkk;\n",
    "                        num_count=num_count+1\n",
    "                    end\n",
    "                end\n",
    "            end\n",
    "            jj = Int.(jjjj); kk = Int.(kkkk); Zbr = -pinv(Y[jj,kk]);\n",
    "            if tf_branch[Int(line_prove[i,4]),3] == 8\n",
    "                if bus_ph[k] == \"AN\"\n",
    "                    vr_tap = 1 + 0.00625*tf_branch[vr_idx[count2],6]\n",
    "                elseif bus_ph[k] == \"BN\"\n",
    "                    vr_tap = 1 + 0.00625*tf_branch[vr_idx[count2],7]\n",
    "                elseif bus_ph[k] == \"CN\"\n",
    "                    vr_tap = 1 + 0.00625*tf_branch[vr_idx[count2],8]\n",
    "                elseif bus_ph[k] == \"ABN\" || bus_ph[k] == \"BAN\"\n",
    "                    vr_tap = Diagonal(1 .+ 0.00625*tf_branch[vr_idx[count2],6:7])\n",
    "                elseif bus_ph[k] == \"BCN\" || bus_ph[k] == \"CBN\"\n",
    "                    vr_tap = Diagonal(1 .+ 0.00625*tf_branch[vr_idx[count2],7:8])\n",
    "                elseif bus_ph[k] == \"ACN\" || bus_ph[k] == \"CAN\"\n",
    "                    vr_tap = Diagonal(1 .+ 0.00625*tf_branch[vr_idx[count2],6:2:8])\n",
    "                else\n",
    "                    vr_tap = Diagonal(1 .+ 0.00625*tf_branch[vr_idx[count2],6:8])\n",
    "                end\n",
    "                Vm_kk = vr_tap*Vm1[jj].*exp.(im*θ1[jj]) - Zbr*Ibus[kk]\n",
    "                count2 = count2+1;\n",
    "            else\n",
    "                Vm_kk = Vm1[jj].*exp.(im*θ1[jj]) - Zbr*Ibus[kk]\n",
    "            end\n",
    "            # Vm_jj = Vm1[jj].*exp.(im*θ1[jj]); ii = Int(line_prove[i,4])\n",
    "            # if bus_ph[k] == \"AN\" || bus_ph[k] == \"AS\" || bus_ph[k] == \"A\"\n",
    "            #     Vm_kk = A_mat[1,1,ii]*Vm_jj - B_mat[1,1,ii]*Ibr[count1:count1+length(kk)-1]\n",
    "            # elseif bus_ph[k] == \"BN\" || bus_ph[k] == \"BS\" || bus_ph[k] == \"B\"\n",
    "            #     Vm_kk = A_mat[2,2,ii]*Vm_jj - B_mat[2,2,ii]*Ibr[count1:count1+length(kk)-1]\n",
    "            # elseif bus_ph[k] == \"CN\" || bus_ph[k] == \"CS\" || bus_ph[k] == \"C\"\n",
    "            #     Vm_kk = A_mat[3,3,ii]*Vm_jj - B_mat[3,3,ii]*Ibr[count1:count1+length(kk)-1]\n",
    "            # elseif bus_ph[k] == \"ABN\" || bus_ph[k] == \"ABD\" || bus_ph[k] == \"BAN\" || bus_ph[k] == \"BAD\" || bus_ph[k] == \"BA\" || bus_ph[k] == \"AB\"\n",
    "            #     Vm_kk = A_mat[1:2,1:2,ii]*Vm_jj - B_mat[1:2,1:2,ii]*Ibr[count1:count1+length(kk)-1]\n",
    "            # elseif bus_ph[k] == \"BCN\" || bus_ph[k] == \"BCD\" || bus_ph[k] == \"CBN\"  || bus_ph[k] == \"CBD\" || bus_ph[k] == \"CB\" || bus_ph[k] == \"BC\"\n",
    "            #     Vm_kk = A_mat[2:3,2:3,ii]*Vm_jj - B_mat[2:3,2:3,ii]*Ibr[count1:count1+length(kk)-1]\n",
    "            # elseif bus_ph[k] == \"ACN\" || bus_ph[k] == \"ACD\" || bus_ph[k] == \"CAN\" || bus_ph[k] == \"CAD\" || bus_ph[k] == \"CA\" || bus_ph[k] == \"AC\"\n",
    "            #     Vm_kk = A_mat[1:2:3,1:2:3,ii]*Vm_jj - B_mat[1:2:3,1:2:3,ii]*Ibr[count1:count1+length(kk)-1]\n",
    "            # else\n",
    "            #     Vm_kk = A_mat[:,:,ii]*Vm_jj - B_mat[:,:,ii]*Ibr[count1:count1+length(kk)-1]\n",
    "            # end\n",
    "            Vm1[kk] = abs.(Vm_kk); θ1[kk] = angle.(Vm_kk);\n",
    "            count1 = count1+length(kk);\n",
    "        end\n",
    "Vm1"
   ]
  },
  {
   "cell_type": "code",
   "execution_count": 152,
   "metadata": {},
   "outputs": [],
   "source": [
    "## Update solution\n",
    "        V1 = Vm1.*exp.(im*θ1); pf_err = sum(abs.(V1-V0)); S_inj = V1.*conj(Y*V1);\n",
    "        Vm0 = Vm1; θ0 = θ1;\n",
    "        for i=1:nb_nph\n",
    "            k = Int(Tl[i])\n",
    "            Vll0[i] =  sqrt(Vm0[i]^2 + Vm0[k]^2 - 2*Vm0[i]*Vm0[k]*cos(θ0[i]-θ0[k]) )\n",
    "        end\n",
    "        pf_iter = pf_iter + 1;\n"
   ]
  },
  {
   "cell_type": "code",
   "execution_count": 155,
   "metadata": {},
   "outputs": [
    {
     "data": {
      "text/plain": [
       "11-element Array{Float64,1}:\n",
       " -225370.337\n",
       "       0.0  \n",
       " -172464.141\n",
       "      -0.0  \n",
       "      -0.0  \n",
       "  236638.758\n",
       "  178972.136\n",
       "       0.0  \n",
       "       0.0  \n",
       "       0.0  \n",
       "      -0.0  "
      ]
     },
     "execution_count": 155,
     "metadata": {},
     "output_type": "execute_result"
    }
   ],
   "source": [
    "P_inj = round.(real(S_inj),RoundNearest, digits=3)\n",
    "P_inj[20:30]"
   ]
  }
 ],
 "metadata": {
  "kernelspec": {
   "display_name": "Julia 1.0.4",
   "language": "julia",
   "name": "julia-1.0"
  },
  "language_info": {
   "file_extension": ".jl",
   "mimetype": "application/julia",
   "name": "julia",
   "version": "1.0.4"
  }
 },
 "nbformat": 4,
 "nbformat_minor": 4
}
