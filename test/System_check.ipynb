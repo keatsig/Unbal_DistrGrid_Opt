{
 "cells": [
  {
   "cell_type": "code",
   "execution_count": 1,
   "metadata": {},
   "outputs": [
    {
     "ename": "ArgumentError",
     "evalue": "ArgumentError: \"House_GC-12.47-1_profile.csv\" is not a valid file",
     "output_type": "error",
     "traceback": [
      "ArgumentError: \"House_GC-12.47-1_profile.csv\" is not a valid file",
      "",
      "Stacktrace:",
      " [1] file(::String, ::Bool, ::Bool, ::Int64, ::Nothing, ::Int64, ::Int64, ::Bool, ::Nothing, ::Bool, ::Bool, ::Array{String,1}, ::String, ::Nothing, ::Bool, ::Char, ::Nothing, ::Nothing, ::Char, ::Nothing, ::UInt8, ::Nothing, ::Nothing, ::DataType, ::Nothing, ::Dict{Int8,Int8}, ::Bool, ::Float64, ::Bool, ::Bool, ::Bool, ::Bool, ::Nothing) at C:\\Users\\keats\\.julia\\packages\\CSV\\9II7K\\src\\CSV.jl:208",
      " [2] #File#21 at C:\\Users\\keats\\.julia\\packages\\CSV\\9II7K\\src\\CSV.jl:160 [inlined]",
      " [3] (::getfield(Core, Symbol(\"#kw#Type\")))(::NamedTuple{(:header, :type),Tuple{Bool,DataType}}, ::Type{CSV.File}, ::String) at .\\none:0",
      " [4] #read#61 at C:\\Users\\keats\\.julia\\packages\\CSV\\9II7K\\src\\CSV.jl:653 [inlined]",
      " [5] (::getfield(CSV, Symbol(\"#kw##read\")))(::NamedTuple{(:header, :type),Tuple{Bool,DataType}}, ::typeof(CSV.read), ::String) at .\\none:0",
      " [6] top-level scope at In[1]:23"
     ]
    }
   ],
   "source": [
    "using JuMP, Ipopt, SparseArrays, LinearAlgebra, NamedArrays, DelimitedFiles, PyPlot, CSV\n",
    "\n",
    "# Include necessary functions\n",
    "include(\"Functions/ybus_matrix.jl\");        # Function to calculate Ybus matrix (G,B)\n",
    "include(\"Functions/variables_polar.jl\");    # Function to define variables\n",
    "include(\"Functions/constraints_polar.jl\");  # Function to define constraints\n",
    "include(\"Functions/cost_polar.jl\");         # Function to define cost\n",
    "include(\"Functions/misc_polar.jl\");         # Function to define start point,map input,print output,plot\n",
    "include(\"Functions/parse_gld_day1.jl\");      # Function to parse GridLabD system data\n",
    "include(\"Functions/fixed_point.jl\");      # Function to parse GridLabD system data\n",
    "\n",
    "\n",
    "case_name = \"case13_glm\"\n",
    "case_name = \"GC-12.47-1\"\n",
    "#case_name = \"R1-12.47-3\"\n",
    "#case_name = \"R1-25.00-1\"\n",
    "#case_name = \"R1-12.47-1\"\n",
    "#case_name = \"turkey_solar\"\n",
    "data_file = open(string(\"data/\",case_name,\"/data.xml\"))\n",
    "data = readlines(data_file)\n",
    "z_file = open(string(\"data/\",case_name,\"/z_dump.xml\"))\n",
    "z_dump = readlines(z_file);\n",
    "house_sch = CSV.read(string(\"House_\",case_name,\"_profile.csv\"),header=false,type=Float64)\n",
    "    global house_sch = convert(Matrix,house_sch);\n",
    "    PV_sch = CSV.read(string(\"PV_\",case_name,\"_profile.csv\"),header=false,type=Float64)\n",
    "    global PV_sch = convert(Matrix,PV_sch);\n",
    "    idx_PV = CSV.read(string(\"DSPV_list.csv\"),header=false,type=Float64)\n",
    "    global idx_PV = Int.(convert(Matrix,idx_PV).+3);\n",
    "\n",
    "    # Other inputs\n",
    "    crit_node = \"all\"\n",
    "    init_op = 1   # 1- Flat start, 2- GridlabD point, 3-Specified point\n",
    "    global PV_rat = 0.025;\n",
    "\n",
    "    # Read all system data and calculate number of buses, generators, loads\n",
    "    global count_sch = 1\n",
    "    parse_gld();\n",
    "    par_nam = [\"nb\"; \"ngy\"; \"nly\"; \"nld\"; \"nb_nph\"; \"ngy_nph\"; \"nly_nph\"; \"nld_nph\"]\n",
    "    par_val = [nb ngy nly nld nb_nph ngy_nph nly_nph nld_nph];\n",
    "    par_det = NamedArray( par_val', (par_nam, [:Value]), (\"Par\",\"Val\"))\n",
    "    @show par_det\n",
    "    print(\"-------------------\\n\")"
   ]
  },
  {
   "cell_type": "code",
   "execution_count": 3,
   "metadata": {},
   "outputs": [
    {
     "data": {
      "text/plain": [
       "true"
      ]
     },
     "execution_count": 3,
     "metadata": {},
     "output_type": "execute_result"
    }
   ],
   "source": [
    "Cm = spzeros(nb);\n",
    "for i=1:nb\n",
    "    if !isempty(findall(idx->idx==i,branch[:,1:2])) \n",
    "        Cm[i]=1      \n",
    "    end\n",
    "end\n",
    "sum(Cm) == nb"
   ]
  },
  {
   "cell_type": "code",
   "execution_count": 3,
   "metadata": {},
   "outputs": [
    {
     "data": {
      "text/plain": [
       "true"
      ]
     },
     "execution_count": 3,
     "metadata": {},
     "output_type": "execute_result"
    }
   ],
   "source": [
    "idx_node_f = findall(idx -> idx == \"\\t\\t\\t<node>\", data); idx_node_t = findall(idx -> idx == \"\\t\\t\\t</node>\", data)\n",
    "idx_load_f = findall(idx -> idx == \"\\t\\t\\t<load>\", data); idx_load_t = findall(idx -> idx == \"\\t\\t\\t</load>\", data)\n",
    "idx_tnode_f = findall(idx -> idx == \"\\t\\t\\t<triplex_node>\", data); idx_tnode_t = findall(idx -> idx == \"\\t\\t\\t</triplex_node>\", data)\n",
    "idx_meter_f = findall(idx -> idx == \"\\t\\t\\t<meter>\", data); idx_meter_t = findall(idx -> idx == \"\\t\\t\\t</meter>\", data)\n",
    "idx_tmeter_f = findall(idx -> idx == \"\\t\\t\\t<triplex_meter>\", data); idx_tmeter_t = findall(idx -> idx == \"\\t\\t\\t</triplex_meter>\", data)\n",
    "idx_bus_f = [idx_node_f; idx_load_f; idx_tnode_f]; idx_bus_t = [idx_node_t; idx_load_t; idx_tnode_t]\n",
    "x=get_data(data,nb,idx_bus_f,idx_bus_t,\"<busflags>\",3)\n",
    "xx=findall(idx -> idx != \"HASSOURCE\" ,x)\n",
    "length(xx)==0"
   ]
  },
  {
   "cell_type": "code",
   "execution_count": 4,
   "metadata": {},
   "outputs": [
    {
     "data": {
      "text/plain": [
       "true"
      ]
     },
     "execution_count": 4,
     "metadata": {},
     "output_type": "execute_result"
    }
   ],
   "source": [
    "vl = findall(idx -> idx < 0.9 && idx > 0, bus[:,9:2:13])\n",
    "vu = findall(idx -> idx > 1.1 && idx > 0, bus[:,9:2:13])\n",
    "length(vl)+length(vu)==0"
   ]
  },
  {
   "cell_type": "code",
   "execution_count": 13,
   "metadata": {},
   "outputs": [
    {
     "data": {
      "text/plain": [
       "62.1651"
      ]
     },
     "execution_count": 13,
     "metadata": {},
     "output_type": "execute_result"
    }
   ],
   "source": [
    "Pl_tot = tot_load/baseMVA*1e3\n",
    "#Pg_tot = sum(ygen[:,2])*1e3\n",
    "#Pg_tot - Pl_tot\n"
   ]
  },
  {
   "cell_type": "code",
   "execution_count": 9,
   "metadata": {},
   "outputs": [
    {
     "data": {
      "text/plain": [
       "15×6 Array{Float64,2}:\n",
       " 1.0207  0.0  1.0129  0.6179  1.0105  0.49  \n",
       " 1.0624  0.0  1.0624  0.0     1.0624  0.0006\n",
       " 1.0211  0.0  1.0164  0.3973  1.012   0.2497\n",
       " 1.0     0.0  1.0     0.0     1.0     0.0   \n",
       " 0.977   0.0  1.0234  1.4638  0.9679  1.8466\n",
       " 0.9732  0.0  0.0     0.0     0.9689  1.9985\n",
       " 1.0009  0.0  0.994   0.8336  0.9916  0.7079\n",
       " 0.0     0.0  0.9957  1.9509  1.0081  1.6378\n",
       " 0.0     0.0  0.9936  2.0306  1.0035  1.5514\n",
       " 0.9641  0.0  0.0     0.0     0.9725  2.4461\n",
       " 0.9764  0.0  1.0229  1.3342  0.9686  1.8165\n",
       " 0.9692  0.0  1.0238  1.3959  0.965   2.0238\n",
       " 0.9764  0.0  1.0228  1.3333  0.9686  1.8163\n",
       " 0.9734  0.0  0.0     0.0     0.9679  2.0126\n",
       " 1.0101  0.0  1.0175  0.0108  1.0004  0.2007"
      ]
     },
     "execution_count": 9,
     "metadata": {},
     "output_type": "execute_result"
    }
   ],
   "source": [
    "soln_VU = readdlm(string(\"VPQ_\",case_name,\"_soln.csv\"), ',')\n",
    "V1 = soln_VU[:,1]; V1 = soln_VU[:,1]; θ1 = soln_VU[:,2];\n",
    "fs = 10; xs = 5; ys = 3\n",
    "Vm_a = zeros(nb,1);Vm_b = zeros(nb,1);Vm_c = zeros(nb,1)\n",
    "θ_a = zeros(nb,1);θ_b = zeros(nb,1);θ_c = zeros(nb,1)\n",
    "t = range(1,stop=nb)\n",
    "\n",
    "for i=1:nb\n",
    "    for j=Int.(sum(bus_count[1:i-1])+1:sum(bus_count[1:i]))    \n",
    "        if bus_ϕ[j] == \"A\" \n",
    "            Vm_a[i] = V1[j]\n",
    "            θ_a[i] = θ1[j]    \n",
    "        elseif bus_ϕ[j] == \"B\"  \n",
    "            Vm_b[i] = V1[j]\n",
    "            θ_b[i] = θ1[j]\n",
    "        else\n",
    "            Vm_c[i] = V1[j]\n",
    "            θ_c[i] = θ1[j] \n",
    "        end\n",
    "    end\n",
    "end\n",
    "for i=1:nb\n",
    "    if abs(θ_b[i]) >= 1e-5\n",
    "        θ_b[i] = abs(θ_b[i] - θ_a[i] + 120)\n",
    "    end\n",
    "    if abs(θ_c[i]) >= 1e-5\n",
    "        θ_c[i] = abs(θ_c[i] - θ_a[i] - 120)\n",
    "    end        \n",
    "    θ_a[i] = 0             \n",
    "end\n",
    "[Vm_a θ_a Vm_b θ_b Vm_c θ_c]\n"
   ]
  },
  {
   "cell_type": "code",
   "execution_count": 9,
   "metadata": {},
   "outputs": [
    {
     "data": {
      "text/plain": [
       "9"
      ]
     },
     "execution_count": 9,
     "metadata": {},
     "output_type": "execute_result"
    }
   ],
   "source": [
    "count =0\n",
    "for i=1:3, j=1:3\n",
    "    count = count +1\n",
    "end\n",
    "count"
   ]
  }
 ],
 "metadata": {
  "kernelspec": {
   "display_name": "Julia 1.0.4",
   "language": "julia",
   "name": "julia-1.0"
  },
  "language_info": {
   "file_extension": ".jl",
   "mimetype": "application/julia",
   "name": "julia",
   "version": "1.0.4"
  }
 },
 "nbformat": 4,
 "nbformat_minor": 2
}
