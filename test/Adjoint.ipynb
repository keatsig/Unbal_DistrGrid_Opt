{
 "cells": [
  {
   "cell_type": "code",
   "execution_count": 1,
   "metadata": {},
   "outputs": [
    {
     "data": {
      "text/plain": [
       "0"
      ]
     },
     "execution_count": 1,
     "metadata": {},
     "output_type": "execute_result"
    }
   ],
   "source": [
    "using JuMP,Ipopt\n",
    "include(\"Functions/Conor_adjoint.jl\");\n",
    "\n",
    "Z=0.01+0.1*im\n",
    "Y=inv(Z)\n",
    "g=real(Y)\n",
    "b=imag(Y)\n",
    "\n",
    "myDict=Dict()\n",
    "\n",
    "myDict[\"g\"]=g\n",
    "myDict[\"b\"]=b\n",
    "myDict[\"V_max\"]=1.1\n",
    "myDict[\"V_min\"]=0.9\n",
    "myDict[\"Pload\"]=1\n",
    "myDict[\"Qload\"]=0\n",
    "myDict[\"S_pv\"]=0.5\n",
    "\n",
    "# Initial Guess for NR powerflow\n",
    "myDict[\"Var\"]=Dict()\n",
    "myDict[\"Var\"][\"V2\"]=1\n",
    "myDict[\"Var\"][\"T2\"]=0"
   ]
  },
  {
   "cell_type": "code",
   "execution_count": 10,
   "metadata": {},
   "outputs": [
    {
     "data": {
      "text/latex": [
       "$$ 0.9 - Voltage2(V1, P_PV, Q_PV) \\leq 0 $$"
      ],
      "text/plain": [
       "0.9 - Voltage2(V1, P_PV, Q_PV) <= 0"
      ]
     },
     "execution_count": 10,
     "metadata": {},
     "output_type": "execute_result"
    }
   ],
   "source": [
    "model = Model()\n",
    "     # register functions and derivatives to model\n",
    "    JuMP.register(model, :Voltage2, 3, Voltage2,diffVoltage2)\n",
    "    JuMP.register(model, :Pinj_inner, 3, Pinj_func,Pinj_func_diff)\n",
    "    JuMP.register(model, :test, 1, test1, autodiff=true)\n",
    "\n",
    "    @variable(model, myDict[\"V_min\"]<=V1<=myDict[\"V_max\"])\n",
    "    @variable(model, P_PV)\n",
    "    @variable(model, Q_PV)\n",
    "    @variable(model, x)\n",
    "\n",
    "    @NLconstraint(model, P_PV^2+Q_PV^2 <= myDict[\"S_pv\"])\n",
    "    @NLconstraint(model,myDict[\"V_min\"]<= Voltage2(V1,P_PV,Q_PV))\n"
   ]
  },
  {
   "cell_type": "code",
   "execution_count": 49,
   "metadata": {},
   "outputs": [
    {
     "data": {
      "text/plain": [
       "\"LOCALLY_SOLVED\""
      ]
     },
     "execution_count": 49,
     "metadata": {},
     "output_type": "execute_result"
    }
   ],
   "source": [
    "using JuMP,Ipopt\n",
    "include(\"Functions/Conor_adjoint.jl\");\n",
    "\n",
    "model = Model(with_optimizer(Ipopt.Optimizer,warm_start_init_point=\"yes\",print_level=0));\n",
    "# JuMP.register(model, :test1, 1, test, test_diff,test_diff2)\n",
    "JuMP.register(model, :test1, 1, test, autodiff=true )\n",
    "\n",
    "@variable(model, x, start = -1)\n",
    "@constraint(model, -1<=x<=1)\n",
    "@NLconstraint(model, test1(x) == 0)\n",
    "@NLobjective(model, Min, x)\n",
    "optimize!(model); stat = string(termination_status(model))"
   ]
  },
  {
   "cell_type": "code",
   "execution_count": 50,
   "metadata": {},
   "outputs": [
    {
     "data": {
      "text/plain": [
       "-1.0"
      ]
     },
     "execution_count": 50,
     "metadata": {},
     "output_type": "execute_result"
    }
   ],
   "source": [
    "JuMP.value(x)"
   ]
  },
  {
   "cell_type": "code",
   "execution_count": 42,
   "metadata": {},
   "outputs": [
    {
     "data": {
      "text/latex": [
       "$$ \\begin{alignat*}{1}\\min\\quad & x\\\\\n",
       "\\text{Subject to} \\quad & x \\geq -1.0\\\\\n",
       " & x \\leq 1.0\\\\\n",
       " & test(x) - 0.0 = 0\\\\\n",
       "\\end{alignat*}\n",
       " $$"
      ],
      "text/plain": [
       "A JuMP Model\n",
       "Minimization problem with:\n",
       "Variable: 1\n",
       "Objective function type: Nonlinear\n",
       "`VariableRef`-in-`MathOptInterface.GreaterThan{Float64}`: 1 constraint\n",
       "`VariableRef`-in-`MathOptInterface.LessThan{Float64}`: 1 constraint\n",
       "Nonlinear: 1 constraint\n",
       "Model mode: AUTOMATIC\n",
       "CachingOptimizer state: ATTACHED_OPTIMIZER\n",
       "Solver name: SolverName() attribute not implemented by the optimizer.\n",
       "Names registered in the model: x"
      ]
     },
     "execution_count": 42,
     "metadata": {},
     "output_type": "execute_result"
    }
   ],
   "source": [
    "model"
   ]
  }
 ],
 "metadata": {
  "kernelspec": {
   "display_name": "Julia 1.0.4",
   "language": "julia",
   "name": "julia-1.0"
  },
  "language_info": {
   "file_extension": ".jl",
   "mimetype": "application/julia",
   "name": "julia",
   "version": "1.0.4"
  }
 },
 "nbformat": 4,
 "nbformat_minor": 4
}
