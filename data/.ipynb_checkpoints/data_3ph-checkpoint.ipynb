{
 "cells": [
  {
   "cell_type": "markdown",
   "metadata": {},
   "source": [
    "## 3 bus"
   ]
  },
  {
   "cell_type": "code",
   "execution_count": null,
   "metadata": {},
   "outputs": [],
   "source": [
    "baseMVA = 100\n",
    "\n",
    "## bus data\n",
    "#\tbus_i\ttype\tvmin_1\tvmax_1\tvmin_2\tvmax_2\tvmin_3\tvmax_3\tvm_1\tva_1\tvm_2\tva_2\tvm_3\tva_3\n",
    "bus = [\n",
    "\t1\t 3\t 0.90\t 1.10\t 0.90\t 1.10\t 0.90\t 1.10\t 1.10000\t  0.0000\t 1.10000\t  0.0000\t 1.10000\t  0.0000;\n",
    "\t2\t 2\t 0.90\t 1.10\t 0.90\t 1.10\t 0.90\t 1.10\t 0.92617\t  7.2588\t 0.92617\t  7.2588\t 0.92617\t  7.2588;\n",
    "\t3\t 2\t 0.90\t 1.10\t 0.90\t 1.10\t 0.90\t 1.10\t 0.90000\t-17.2671\t 0.90000\t-17.2671\t 0.90000\t-17.2671;\n",
    "];\n",
    "\n",
    "## load data\n",
    "#\tload_bus\tpd_1\tqd_1\tpd_2\tqd_2\tpd_3\tqd_3\tstatus\n",
    "load = [\n",
    "\t1\t 110.0\t 40.0\t 110.0\t 40.0\t 110.0\t 40.0\t 1;\n",
    "\t2\t 110.0\t 40.0\t 110.0\t 40.0\t 110.0\t 40.0\t 1;\n",
    "\t3\t  95.0\t 50.0\t 95.0\t 50.0\t 95.0\t 50.0\t 1;\n",
    "];\n",
    "\n",
    "## generator data\n",
    "#\tgen_bus\tpmin_1\tpmax_1\tqmin_1\tqmax_1\tpmin_2\tpmax_2\tqmin_2\tqmax_2\tpmin_3\tpmax_3\tqmin_3\tqmax_3\tpg_1\tqg_1\tpg_2\tqg_2\tpg_3\tqg_3\tstatus\n",
    "gen = [\n",
    "\t1\t 0.0\t 2000.0\t -1000.0\t 1000.0\t 0.0\t 2000.0\t -1000.0\t 1000.0\t 0.0\t 2000.0\t -1000.0\t1000.0\t 158.067\t 28.79\t 158.067\t 28.79\t 158.067\t 28.79\t 1;\n",
    "\t2\t 0.0\t 1500.0\t -1000.0\t 1000.0\t 0.0\t 1500.0\t -1000.0\t 1000.0\t 0.0\t 1500.0\t -1000.0\t1000.0\t 160.006\t -4.63\t 160.006\t -4.63\t 160.006\t -4.63\t 1;\n",
    "\t3\t 0.0\t 0.0\t -1000.0\t 1000.0\t 0.0\t 0.0\t -1000.0\t 1000.0\t 0.0\t 0.0\t -1000.0\t1000.0\t   000.0\t -4.84\t   000.0\t -4.84\t   000.0\t -4.84\t 1;\n",
    "];\n",
    "\n",
    "## generator cost data\n",
    "#\t2\tstartup\tshutdown\tn\tc(n-1)\t...\tc0\n",
    "gencost = [\n",
    "\t2\t 0.0\t 0.0\t 3\t 0.110\t 5.0\t 0.0;\n",
    "\t2\t 0.0\t 0.0\t 3\t 0.085\t 1.2\t 0.0;\n",
    "\t2\t 0.0\t 0.0\t 3\t 0.000\t 0.0\t 0.0;\n",
    "];\n",
    "\n",
    "## branch data\n",
    "#\tf_bus\tt_bus\tr_11\tx_11\tr_12\tx_12\tr_13\tx_13\tr_22\tx_22\tr_23\tx_23\tr_33\tx_33   b_1    b_2    b_3    rate_a\trate_b\trate_c\tangmin\tangmax\tstatus\n",
    "branch = [\n",
    "\t1\t 3\t 0.065\t 0.62\t 0.0\t 0.0\t 0.0\t 0.0\t 0.065\t 0.62\t 0.0\t 0.0\t 0.065\t 0.62    0.45  0.45   0.45    9000\t 0\t 0\t -30.0\t 30.0\t 1;\n",
    "\t3\t 2\t 0.025\t 0.75\t 0.0\t 0.0\t 0.0\t 0.0\t 0.025\t 0.75\t 0.0\t 0.0\t 0.025\t 0.75    0.70  0.70   0.70     50\t 0\t 0\t -30.0\t 30.0\t 1;\n",
    "\t1\t 2\t 0.042\t 0.90\t 0.0\t 0.0\t 0.0\t 0.0\t 0.042\t 0.90\t 0.0\t 0.0\t 0.042\t 0.90    0.30  0.30   0.30    9000\t 0\t 0\t -30.0\t 30.0\t 1;\n",
    "];"
   ]
  },
  {
   "cell_type": "code",
   "execution_count": null,
   "metadata": {},
   "outputs": [],
   "source": [
    "α"
   ]
  },
  {
   "cell_type": "markdown",
   "metadata": {},
   "source": [
    "## 5 bus"
   ]
  },
  {
   "cell_type": "code",
   "execution_count": null,
   "metadata": {},
   "outputs": [],
   "source": [
    "baseMVA = 100\n",
    "\n",
    "## bus data\n",
    "#\tbus_i\ttype\tvmin_1\tvmax_1\tvmin_2\tvmax_2\tvmin_3\tvmax_3\tvm_1\tva_1\tvm_2\tva_2\tvm_3\tva_3\n",
    "bus = [\n",
    "\t1\t 2\t 0.90\t 1.10\t 0.90\t 1.10\t 0.90\t 1.10\t 1.00000\t 2.80377\t 1.00000\t 2.80377\t 1.00000\t 2.80377;\n",
    "\t2\t 1\t 0.90\t 1.10\t 0.90\t 1.10\t 0.90\t 1.10\t 1.08407\t-0.73465\t 1.08407\t-0.73465\t 1.08407\t-0.73465;\n",
    "\t3\t 2\t 0.90\t 1.10\t 0.90\t 1.10\t 0.90\t 1.10\t 1.00000\t-0.55972\t 1.00000\t-0.55972\t 1.00000\t-0.55972;\n",
    "\t4\t 3\t 0.90\t 1.10\t 0.90\t 1.10\t 0.90\t 1.10\t 1.00000\t 0.00000\t 1.00000\t 0.00000\t 1.00000\t 0.00000;\n",
    "\t5\t 2\t 0.90\t 1.10\t 0.90\t 1.10\t 0.90\t 1.10\t 1.00000\t 3.59033\t 1.00000\t 3.59033\t 1.00000\t 3.59033;\n",
    "];\n",
    "\n",
    "## load data\n",
    "#\tload_bus\tpd_1\tqd_1\tpd_2\tqd_2\tpd_3\tqd_3\tstatus\n",
    "load = [\n",
    "\t2\t 300.0\t 100.0\t 300.0\t 100.0\t 300.0\t 100.0\t 1;\n",
    "\t3\t 300.0\t 100.0\t 300.0\t 100.0\t 300.0\t 100.0\t 1;\n",
    "\t4\t 400.0\t 130.0\t 400.0\t 130.0\t 400.0\t 130.0\t 1;\n",
    "];\n",
    "\n",
    "## generator data\n",
    "#\tgen_bus\tpmin_1\tpmax_1\tqmin_1\tqmax_1\tpmin_2\tpmax_2\tqmin_2\tqmax_2\tpmin_3\tpmax_3\tqmin_3\tqmax_3\tpg_1\tqg_1\tpg_2\tqg_2\tpg_3\tqg_3\tstatus\n",
    "gen = [\n",
    "\t1\t 0.0\t  40.0\t  -30.0\t  30.0\t 0.0\t  40.0\t  -30.0\t  30.0\t 0.0\t  40.0\t  -30.0\t  30.0\t  40.0\t  30.0\t  40.0\t  30.0\t  40.0\t  30.0\t 1;\n",
    "\t2\t 0.0\t 170.0\t -127.5\t 127.5\t 0.0 \t 170.0\t -127.5\t 127.5\t 0.0 \t 170.0\t -127.5\t 127.5\t 170.0\t 127.5\t 170.0\t 127.5\t 170.0\t 127.5\t 1;\n",
    "\t3\t 0.0\t 520.0\t -390.0\t 390.0\t 0.0 \t 520.0\t -390.0\t 390.0\t 0.0 \t 520.0\t -390.0\t 390.0\t 325.0\t 390.0\t 325.0\t 390.0\t 325.0\t 390.0\t 1;\n",
    "\t4\t 0.0\t 200.0\t -150.0\t 150.0\t 0.0\t 200.0\t -150.0\t 150.0\t 0.0\t 200.0\t -150.0\t 150.0\t   0.0\t -10.0\t   0.0\t -10.0\t   0.0\t -10.0\t 1;\n",
    "\t5\t 0.0\t 600.0\t -450.0\t 450.0\t 0.0\t 600.0\t -450.0\t 450.0\t 0.0\t 600.0\t -450.0\t 450.0\t 470.0\t-165.0\t 470.0\t-165.0\t 470.0\t-165.0\t 1;\n",
    "];\n",
    "\n",
    "\n",
    "## generator cost data\n",
    "#\t2\tstartup\tshutdown\tn\tc(n-1)\t...\tc0\n",
    "gencost = [\n",
    "\t2\t 0.0\t 0.0\t 3\t 0.0\t 14.0\t 0.0;\n",
    "\t2\t 0.0\t 0.0\t 3\t 0.0\t 15.0\t 0.0;\n",
    "\t2\t 0.0\t 0.0\t 3\t 0.0\t 30.0\t 0.0;\n",
    "\t2\t 0.0\t 0.0\t 3\t 0.0\t 40.0\t 0.0;\n",
    "\t2\t 0.0\t 0.0\t 3\t 0.0\t 10.0\t 0.0;\n",
    "];\n",
    "\n",
    "## branch data\n",
    "#\tf_bus\tt_bus\tr_11\tx_11\tr_12\tx_12\tr_13\tx_13\tr_22\tx_22\tr_23\tx_23\tr_33\tx_33   b_1    b_2    b_3    rate_a\trate_b\trate_c\tangmin\tangmax\tstatus\n",
    "branch = [\n",
    "\t1\t 2\t 0.00281\t 0.0281\t 0.0\t 0.0\t 0.0\t 0.0\t 0.00281\t 0.0281\t 0.0\t 0.0\t 0.00281\t 0.0281    0.0    0.0    0.0    400\t 400\t 400\t -30.0\t 30.0\t 1;\n",
    "\t1\t 4\t 0.00304\t 0.0304\t 0.0\t 0.0\t 0.0\t 0.0\t 0.00304\t 0.0304\t 0.0\t 0.0\t 0.00304\t 0.0304    0.0    0.0    0.0    426\t 426\t 426\t -30.0\t 30.0\t 1;\n",
    "\t1\t 5\t 0.00064\t 0.0064\t 0.0\t 0.0\t 0.0\t 0.0\t 0.00064\t 0.0064\t 0.0\t 0.0\t 0.00064\t 0.0064    0.0    0.0    0.0    426\t 426\t 426\t -30.0\t 30.0\t 1;\n",
    "\t2\t 3\t 0.00108\t 0.0108\t 0.0\t 0.0\t 0.0\t 0.0\t 0.00108\t 0.0108\t 0.0\t 0.0\t 0.00108\t 0.0108    0.0    0.0    0.0    426\t 426\t 426\t -30.0\t 30.0\t 1;\n",
    "];"
   ]
  },
  {
   "cell_type": "markdown",
   "metadata": {},
   "source": [
    "## 3-bus unbalanced"
   ]
  },
  {
   "cell_type": "code",
   "execution_count": null,
   "metadata": {},
   "outputs": [],
   "source": [
    "baseMVA = 0.5\n",
    "\n",
    "## bus data\n",
    "#\tbus_i\ttype\tvmin_1\tvmax_1\tvmin_2\tvmax_2\tvmin_3\tvmax_3\tvm_1\tva_1\tvm_2\tva_2\tvm_3\tva_3\n",
    "bus = [\n",
    "\t1\t 3\t 0.90\t 1.10\t 0.90\t 1.10\t 0.90\t 1.10\t 0.9959\t  0.0000\t 0.9959\t  0.0000\t 0.9959\t  0.0000;\n",
    "\t2\t 1\t 0.90\t 1.10\t 0.90\t 1.10\t 0.90\t 1.10\t 0.92617\t  7.2588\t 0.92617\t  7.2588\t 0.92617\t  7.2588;\n",
    "\t3\t 1\t 0.90\t 1.10\t 0.90\t 1.10\t 0.90\t 1.10\t 0.90000\t-17.2671\t 0.90000\t-17.2671\t 0.90000\t-17.2671;\n",
    "];\n",
    "\n",
    "## load data\n",
    "#\tload_bus\tpd_1\tqd_1\tpd_2\tqd_2\tpd_3\tqd_3\tstatus\n",
    "load = [\n",
    "\t3\t 0.018\t 0.003\t 0.006\t 0.003\t 0.006\t 0.003\t 1;\n",
    "];\n",
    "\n",
    "## generator data\n",
    "#\tgen_bus\tpmin_1\tpmax_1\tqmin_1\tqmax_1\tpmin_2\tpmax_2\tqmin_2\tqmax_2\tpmin_3\tpmax_3\tqmin_3\tqmax_3\tpg_1\tqg_1\tpg_2\tqg_2\tpg_3\tqg_3\tstatus\n",
    "gen = [\n",
    "\t1\t-3600.0\t 3600.0\t -3600.0\t 3600.0\t -3600.0\t 3600.0\t -3600.0\t 3600.0\t -3600.0\t 3600.0\t -3600.0\t 3600.0\t 158.067\t 28.79\t 158.067\t 28.79\t 158.067\t 28.79\t 1;\n",
    "];\n",
    "\n",
    "## generator cost data\n",
    "#\t2\tstartup\tshutdown\tn\tc(n-1)\t...\tc0\n",
    "gencost = [\n",
    "\t2\t 0.0\t 0.0\t 3\t 0.00\t 0.5\t 0.0;\n",
    "];\n",
    "\n",
    "## branch data\n",
    "#\tf_bus\tt_bus\tr_11\tx_11\tr_12\tx_12\tr_13\tx_13\tr_22\tx_22\tr_23\tx_23\tr_33\tx_33   b_1    b_2    b_3    rate_a\trate_b\trate_c\tangmin\tangmax\tstatus\n",
    "branch = [\n",
    "\t1\t 2\t 0.9375\t 0.546562\t 0.375\t 0.218437\t 0.375\t 0.218437\t 0.9375\t 0.546562\t 0.375\t 0.218437\t 0.9375\t 0.546562    5.12e-6  5.12e-6  5.12e-6  800\t 1200\t 1200\t -60.0\t 60.0\t 1;\n",
    "\t2\t 3\t 1.09406\t 0.625312\t 0.437812 \t 0.250312 \t 0.437812\t 0.250312\t 1.09406\t 0.625312\t 0.437812\t 0.250312\t 1.09406\t 0.625312  5.12e-6  5.12e-6  5.12e-6  800\t 1200\t 1200\t -60.0\t 60.0\t 1;\n",
    "];"
   ]
  }
 ],
 "metadata": {
  "kernelspec": {
   "display_name": "Julia 0.6.4",
   "language": "julia",
   "name": "julia-0.6"
  },
  "language_info": {
   "file_extension": ".jl",
   "mimetype": "application/julia",
   "name": "julia",
   "version": "0.6.4"
  }
 },
 "nbformat": 4,
 "nbformat_minor": 2
}
